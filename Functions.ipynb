{
  "nbformat": 4,
  "nbformat_minor": 0,
  "metadata": {
    "colab": {
      "provenance": []
    },
    "kernelspec": {
      "name": "python3",
      "display_name": "Python 3"
    },
    "language_info": {
      "name": "python"
    }
  },
  "cells": [
    {
      "cell_type": "markdown",
      "source": [
        "Q1.  What is the difference between a function and a method in Python?\n",
        "\n",
        "Ans.  Function:\n",
        "\n",
        "A function is a block of reusable code that performs a specific task.\n",
        "It is defined at the global level or within another function (nested).\n",
        "Functions can exist independently of any class.\n",
        "Functions are invoked by their name, optionally with arguments.\n",
        "example:\n",
        "\n",
        "def add_numbers(a, b):\n",
        "\n",
        "    return a + b\n",
        "\n",
        "result = add_numbers(5, 3)\n",
        "\n",
        "print(result)\n",
        "\n",
        "Method:\n",
        "\n",
        "A method is a function defined inside a class and is associated with an instance (object) or the class itself. Methods operate on data (attributes) of the class, and they often use self (for instance methods) or cls (for class methods) to refer to the instance or the class. Methods are called on an object (or class), and the object is implicitly passed as the first argument.\n",
        "example:\n",
        "\n",
        "class Circle:\n",
        "\n",
        "    def __init__(self, radius):\n",
        "        self.radius = radius\n",
        "    def calculate_area(self):\n",
        "        return 3.14 * self.radius * self.radius\n",
        "\n",
        "Q2. Explain the concept of function arguments and parameters in Python.\n",
        "\n",
        "Ans. Parameters:\n",
        "\n",
        "Definition: Parameters are placeholders defined in a function's signature. They specify the type of input a function expects when it is called.\n",
        "\n",
        "Purpose: They act as variables that receive the values passed during the function call.\n",
        "Example:\n",
        "def greet(name):  \n",
        "    print(f\"Hello, {name}!\")\n",
        "\n",
        "Arguments:\n",
        "\n",
        "Definition: Arguments are the actual values or data you pass into the function when you call it.\n",
        "\n",
        "Purpose: They provide the function with specific input to work with.\n",
        "Example:\n",
        "greet(\"Alice\")  \n",
        "\n",
        "Q3.  What are the different ways to define and call a function in Python?\n",
        "\n",
        "Ans. In Python, there are various ways to define and call functions based on the desired behavior and functionality. Below are different methods with examples:\n",
        "\n",
        "Standard Function Definition:\n",
        "\n",
        "Definition: A function is defined using the def keyword, followed by a name, parameters (optional), and a body.\n",
        "Calling: Use the function name followed by parentheses, passing arguments if required.\n",
        "Example:\n",
        "\n",
        "def greet(name):\n",
        "\n",
        "  print(f\"Hello, {name}!\")\n",
        "\n",
        "greet(\"Alice\")  \n",
        "\n",
        "Function with Default Parameters:\n",
        "\n",
        "Definition: Specify default values for parameters in the definition.\n",
        "Calling: Can omit arguments for parameters with default values.\n",
        "Example:\n",
        "\n",
        "def greet(name=\"Guest\"):\n",
        "\n",
        "  print(f\"Hello, {name}!\")\n",
        "\n",
        "greet()         \n",
        "greet(\"Alice\")\n",
        "\n",
        "Lambda Functions (Anonymous Functions):\n",
        "\n",
        "Definition: Use the lambda keyword to define small, one-line functions.\n",
        "Calling: Call like a regular function.\n",
        "Example:\n",
        "\n",
        "add = lambda x, y: x + y\n",
        "\n",
        "print(add(3, 5))  \n",
        "\n",
        "Nested Functions:\n",
        "\n",
        "Definition: Define a function inside another function.\n",
        "Calling: The inner function can only be called within the outer function.\n",
        "Example:\n",
        "\n",
        "def outer_function(name):\n",
        "\n",
        "   def inner_function():\n",
        "\n",
        "      print(f\"Hello, {name}!\")\n",
        "\n",
        "   inner_function()\n",
        "\n",
        "outer_function(\"Alice\")\n",
        "\n",
        "Recursive Functions:\n",
        "\n",
        "Definition: A function that calls itself until a base condition is met.\n",
        "Calling: Pass values that eventually meet the base condition.\n",
        "Example:\n",
        "\n",
        "def factorial(n):\n",
        "    if n == 1:\n",
        "        return 1\n",
        "    return n * factorial(n - 1)\n",
        "\n",
        "print(factorial(5))  # Outputs: 120\n",
        "\n",
        "Q4.  What is the purpose of the `return` statement in a Python function?\n",
        "\n",
        "Ans. The return statement in Python is used in functions to:\n",
        "\n",
        "Send Data Back to the Caller: It allows the function to produce a result and send it back to where the function was called.\n",
        "\n",
        "Terminate the Function Execution: The return statement ends the execution of the function immediately. Any code after the return will not execute.\n",
        "\n",
        "Make Functions Reusable and Flexible: By returning values, functions can be used dynamically in various contexts.\n",
        "Example:\n",
        "\n",
        "def factorial(n):\n",
        "\n",
        "   if n == 1:\n",
        "\n",
        "     return 1\n",
        "\n",
        "   return n * factorial(n - 1)\n",
        "\n",
        "print(factorial(5))  \n",
        "\n",
        "Q5.  What are iterators in Python and how do they differ from iterables?\n",
        "\n",
        "Ans. In Python, iterators and iterables are closely related but distinct concepts used for looping through data.\n",
        "\n",
        "Iterable: Anything that can be looped over (e.g., lists, tuples, strings).\n",
        "\n",
        "Iterator: An object that produces elements one at a time using __next__.\n",
        "\n",
        "All iterators are iterables, but not all iterables are iterators.\n",
        "\n",
        "To work with large data efficiently, iterators are often preferred because they don't require storing all elements in memory at once.\n",
        "Example:\n",
        "\n",
        "my_list = [1, 2, 3]\n",
        "\n",
        "iterator = iter(my_list)\n",
        "\n",
        "print(next(iterator))\n",
        "\n",
        "print(next(iterator))  \n",
        "print(next(iterator))  \n",
        "\n",
        "Q6. Explain the concept of generators in Python and how they are defined.\n",
        "\n",
        "Ans. Generators in Python:\n",
        "\n",
        "Generators are a special type of iterable in Python that allow you to generate values on the fly using lazy evaluation. Instead of returning all results at once, generators produce items one at a time as they are needed. This makes them memory-efficient for large datasets.\n",
        "\n",
        "Defined Using yield:\n",
        "\n",
        "Generators are defined using a function with one or more yield statements instead of return.\n",
        "Each time yield is encountered, the generator pauses and saves its state, resuming when the next value is requested.\n",
        "Example:\n",
        "\n",
        "def count_up_to(n):\n",
        "\n",
        "   count = 1\n",
        "\n",
        "   while count <= n:\n",
        "\n",
        "  yield count\n",
        "\n",
        "  count += 1\n",
        "\n",
        "for num in count_up_to(5):\n",
        "\n",
        "  print(num)\n",
        "\n",
        "Q7. What are the advantages of using generators over regular functions?\n",
        "\n",
        "Ans.Advantages of Generators\n",
        "\n",
        "1. Memory Efficiency:\n",
        "\n",
        "How: Generators use lazy evaluation, meaning they produce items one at a time instead of computing and storing all values in memory at once.\n",
        "\n",
        "Why it’s beneficial: This is especially useful for large datasets or when generating data dynamically.\n",
        "Example:\n",
        "\n",
        "def generate_numbers(limit):\n",
        "  for i in range(limit):\n",
        "\n",
        "  yield i\n",
        "\n",
        "gen = generate_numbers(1000000)\n",
        "\n",
        "print(next(gen))\n",
        "\n",
        "2. Faster Execution (for Large Data):\n",
        "\n",
        "How: Generators only compute values when needed, avoiding the overhead of creating and storing a complete data structure upfront.\n",
        "\n",
        "Why it’s beneficial: This results in faster start times, especially for large computations.\n",
        "Example:\n",
        "\n",
        "def get_squares(limit):\n",
        "    return [x**2 for x in range(limit)]\n",
        "\n",
        "def get_squares_gen(limit):\n",
        "    for x in range(limit):\n",
        "        yield x**2\n",
        "\n",
        "for square in get_squares_gen(1000000):\n",
        "    pass  # Processes data one at a time\n",
        "\n",
        "\n",
        "3. Infinite Sequence Support:\n",
        "\n",
        "How: Regular functions must return all results at once, but generators can handle infinite sequences by generating values dynamically.\n",
        "\n",
        "Why it’s beneficial: Enables operations on sequences with no predefined end.\n",
        "Example:\n",
        "\n",
        "def infinite_numbers():\n",
        "    num = 1\n",
        "    while True:\n",
        "        yield num\n",
        "        num += 1\n",
        "\n",
        "gen = infinite_numbers()\n",
        "for _ in range(5):\n",
        "    print(next(gen))  # Outputs: 1, 2, 3, 4, 5\n",
        "\n",
        "4. No Need for Intermediate Data Structures:\n",
        "\n",
        "How: Generators process data without creating intermediate lists or other structures.\n",
        "\n",
        "Why it’s beneficial: Reduces memory usage and improves performance.\n",
        "Example:\n",
        "\n",
        "data = [x**2 for x in range(1000000)]\n",
        "\n",
        "\n",
        "data_gen = (x**2 for x in range(1000000))\n",
        "\n",
        "Q8. What is a lambda function in Python and when is it typically used?\n",
        "\n",
        "Ans. Lambda Function in Python:\n",
        "\n",
        "A lambda function is an anonymous, single-expression function defined using the lambda keyword. Unlike regular functions defined using def, a lambda function does not have a name and is often used for short, simple operations.\n",
        "Example:\n",
        "\n",
        "add = lambda x, y: x + y\n",
        "print(add(3, 5))\n",
        "\n",
        "When to Use Lambda Functions:\n",
        "\n",
        "When simplicity matters: For short, one-off functions that are unlikely to be reused.\n",
        "\n",
        "For higher-order functions: As quick input to map(), filter(), sorted(), etc.\n",
        "\n",
        "In concise, functional programming: To write compact, readable code for small operations.\n",
        "\n",
        "Q9.  Explain the purpose and usage of the `map()` function in Python.\n",
        "\n",
        "Ans. The map() Function in Python:\n",
        "\n",
        "The map() function is a built-in Python function used to apply a given function to each item of an iterable (like a list, tuple, or string) and returns an iterator that produces the transformed values. It simplifies the process of performing the same operation on every element of a sequence.\n",
        "\n",
        "\n",
        "Practical Use Cases:\n",
        "\n",
        "Data Transformation: Converting or transforming datasets element-wise.\n",
        "example\n",
        "\n",
        "names = ['alice', 'bob', 'charlie']\n",
        "capitalized = map(str.capitalize, names)\n",
        "print(list(capitalized))  # Outputs: ['Alice', 'Bob', 'Charlie']\n",
        "\n",
        "Parallel Processing: Applying functions to corresponding elements of multiple iterables.\n",
        "example:\n",
        "\n",
        "nums1 = [1, 2, 3]\n",
        "nums2 = [4, 5, 6]\n",
        "result = map(lambda x, y: x * y, nums1, nums2)\n",
        "print(list(result))  # Outputs: [4, 10, 18]\n",
        "\n",
        "Pipeline Processing: Integrating with other functional programming constructs like filter() and reduce().\n",
        "\n",
        "Q10. What is the difference between `map()`, `reduce()`, and `filter()` functions in Python?\n",
        "\n",
        "Ans. 1. map() Function:\n",
        "\n",
        "Purpose:\n",
        "Applies a given function to each element of an iterable and returns an iterator with the results.\n",
        "\n",
        "Syntax:\n",
        "\n",
        "map(function, iterable, *iterables)\n",
        "\n",
        "Key Features:\n",
        "Transforms the data.\n",
        "Works on one or more iterables in parallel.\n",
        "The number of output elements is the same as the number of input elements.\n",
        "Example:\n",
        "\n",
        "nums = [1, 2, 3, 4]\n",
        "result = map(lambda x: x**2, nums)\n",
        "print(list(result))  # Outputs: [1, 4, 9, 16]\n",
        "\n",
        "2. filter() Function:\n",
        "\n",
        "Purpose:\n",
        "Filters elements of an iterable based on whether they satisfy a predicate function (a function returning True or False).\n",
        "\n",
        "Syntax:\n",
        "\n",
        "filter(function, iterable)\n",
        "\n",
        "Key Features:\n",
        "Selects a subset of the input data based on a condition.\n",
        "The output contains only elements where the predicate evaluates to True.\n",
        "The number of output elements is less than or equal to the number of input elements.\n",
        "Example:\n",
        "\n",
        "nums = [1, 2, 3, 4, 5]\n",
        "result = filter(lambda x: x % 2 == 0, nums)\n",
        "print(list(result))\n",
        "\n",
        "3. reduce() Function:\n",
        "\n",
        "Purpose:\n",
        "Reduces an iterable to a single cumulative value by repeatedly applying a binary function (a function taking two arguments).\n",
        "\n",
        "Syntax:\n",
        "\n",
        "from functools import reduce\n",
        "reduce(function, iterable[, initializer])\n",
        "\n",
        "Key Features:\n",
        "Combines elements into a single value by aggregating them iteratively.\n",
        "Requires the functools module.\n",
        "Can take an optional initializer as the starting value.\n",
        "Example:\n",
        "\n",
        "from functools import reduce\n",
        "\n",
        "nums = [1, 2, 3, 4]\n",
        "result = reduce(lambda x, y: x + y, nums)\n",
        "print(result)"
      ],
      "metadata": {
        "id": "zDk_mQbu7EoM"
      }
    },
    {
      "cell_type": "code",
      "source": [
        "#1 Write a Python function that takes a list of numbers as input and returns the sum of all even numbers in the list.\n",
        "\n",
        "def sum_even_numbers(numbers):\n",
        "    even_sum = 0\n",
        "    for num in numbers:\n",
        "        if num % 2 == 0:\n",
        "            even_sum += num\n",
        "    return even_sum\n",
        "numbers = [1, 2, 3, 4, 5, 6, 7, 8, 9, 10]\n",
        "result = sum_even_numbers(numbers)\n",
        "print(result)"
      ],
      "metadata": {
        "colab": {
          "base_uri": "https://localhost:8080/"
        },
        "id": "mB8VQxskK4dW",
        "outputId": "e9a3ea2a-4fb9-4426-911e-1fcfcb75ea8b"
      },
      "execution_count": 3,
      "outputs": [
        {
          "output_type": "stream",
          "name": "stdout",
          "text": [
            "30\n"
          ]
        }
      ]
    },
    {
      "cell_type": "code",
      "source": [
        "#2 Create a Python function that accepts a string and returns the reverse of that string.\n",
        "\n",
        "def reverse_string(input_string):\n",
        "    reversed_string = \"\"\n",
        "    for char in input_string:\n",
        "        reversed_string = char + reversed_string\n",
        "    return reversed_string\n",
        "input_str = \"Hello, World!\"\n",
        "result = reverse_string(input_str)\n",
        "print(result)"
      ],
      "metadata": {
        "colab": {
          "base_uri": "https://localhost:8080/"
        },
        "id": "lzA0T6iERqYc",
        "outputId": "01177925-8a08-4a33-94cc-254b291f1cdf"
      },
      "execution_count": 4,
      "outputs": [
        {
          "output_type": "stream",
          "name": "stdout",
          "text": [
            "!dlroW ,olleH\n"
          ]
        }
      ]
    },
    {
      "cell_type": "code",
      "source": [
        "#3 Implement a Python function that takes a list of integers and returns a new list containing the squares of each number.\n",
        "\n",
        "def square_numbers(numbers):\n",
        "    squared_numbers = []\n",
        "    for num in numbers:\n",
        "        squared_numbers.append(num ** 2)\n",
        "    return squared_numbers\n",
        "numbers = [1, 2, 3, 4, 5]\n",
        "result = square_numbers(numbers)\n",
        "print(result)\n"
      ],
      "metadata": {
        "colab": {
          "base_uri": "https://localhost:8080/"
        },
        "id": "03qtI-HRR_6j",
        "outputId": "980ed257-b591-4346-a0b7-d2d132b873a8"
      },
      "execution_count": 5,
      "outputs": [
        {
          "output_type": "stream",
          "name": "stdout",
          "text": [
            "[1, 4, 9, 16, 25]\n"
          ]
        }
      ]
    },
    {
      "cell_type": "code",
      "source": [
        "#4 Write a Python function that checks if a given number is prime or not from 1 to 200.\n",
        "def is_prime(number):\n",
        "    if number < 2:\n",
        "        return False\n",
        "    if 1 <= number <= 200:\n",
        "        if number <= 1:\n",
        "            return False\n",
        "        for i in range(2, int(number**0.5) + 1):\n",
        "            if number % i == 0:\n",
        "                return False\n",
        "        return True\n",
        "    else:\n",
        "        return False\n",
        "\n",
        "\n",
        "number = 17\n",
        "if is_prime(number):\n",
        "    print(f\"{number} is a prime number.\")\n",
        "else:\n",
        "    print(f\"{number} is not a prime number.\")"
      ],
      "metadata": {
        "colab": {
          "base_uri": "https://localhost:8080/"
        },
        "id": "JDvg3b1FSQmx",
        "outputId": "07e26f67-4dd4-47e3-d9ee-123c600655bb"
      },
      "execution_count": 10,
      "outputs": [
        {
          "output_type": "stream",
          "name": "stdout",
          "text": [
            "17 is a prime number.\n"
          ]
        }
      ]
    },
    {
      "cell_type": "code",
      "source": [
        "#5 Create an iterator class in Python that generates the Fibonacci sequence up to a specified number of terms.\n",
        "\n",
        "class FibonacciIterator:\n",
        "    def __init__(self, n):\n",
        "        self.n = n\n",
        "        self.a, self.b = 0, 1\n",
        "        self.count = 0\n",
        "\n",
        "    def __iter__(self):\n",
        "        return self\n",
        "\n",
        "    def __next__(self):\n",
        "        if self.count < self.n:\n",
        "            result = self.a\n",
        "            self.a, self.b = self.b, self.a + self.b\n",
        "            self.count += 1\n",
        "            return result\n",
        "        else:\n",
        "            raise StopIteration\n",
        "n = 10\n",
        "fibonacci_gen = FibonacciIterator(n)\n",
        "for num in fibonacci_gen:\n",
        "    print(num)\n",
        "\n",
        "\n"
      ],
      "metadata": {
        "colab": {
          "base_uri": "https://localhost:8080/"
        },
        "id": "Ghjim13QTWMV",
        "outputId": "3cd52f65-e078-4936-d9e8-cad9705711cc"
      },
      "execution_count": 13,
      "outputs": [
        {
          "output_type": "stream",
          "name": "stdout",
          "text": [
            "0\n",
            "1\n",
            "1\n",
            "2\n",
            "3\n",
            "5\n",
            "8\n",
            "13\n",
            "21\n",
            "34\n"
          ]
        }
      ]
    },
    {
      "cell_type": "code",
      "source": [
        "#6 Write a generator function in Python that yields the powers of 2 up to a given exponent.\n",
        "\n",
        "def power_of_two(n):\n",
        "    power = 0\n",
        "    while power <= n:\n",
        "        yield 2 ** power\n",
        "        power += 1\n",
        "n = 5\n",
        "power_gen = power_of_two(n)\n",
        "for power in power_gen:\n",
        "    print(power)"
      ],
      "metadata": {
        "colab": {
          "base_uri": "https://localhost:8080/"
        },
        "id": "ohEBHpIWTqm-",
        "outputId": "615b6474-adf6-4b65-9939-8340ef3f84d8"
      },
      "execution_count": 14,
      "outputs": [
        {
          "output_type": "stream",
          "name": "stdout",
          "text": [
            "1\n",
            "2\n",
            "4\n",
            "8\n",
            "16\n",
            "32\n"
          ]
        }
      ]
    },
    {
      "cell_type": "code",
      "source": [
        "#7 Implement a generator function that reads a file line by line and yields each line as a string.\n",
        "\n",
        "def read_file_lines(file_path):\n",
        "    with open(file_path, 'r') as file:\n",
        "        for line in file:\n",
        "            yield line\n",
        "file_path = 'example.txt'\n",
        "line_gen = read_file_lines(file_path)\n",
        "for line in line_gen:\n",
        "    print(line.strip())\n",
        ""
      ],
      "metadata": {
        "id": "CO9Yc1wsU731"
      },
      "execution_count": null,
      "outputs": []
    },
    {
      "cell_type": "code",
      "source": [
        "#8  Use a lambda function in Python to sort a list of tuples based on the second element of each tuple.\n",
        "\n",
        "data = [(1, 5), (3, 2), (2, 8), (4, 1)]\n",
        "sorted_data = sorted(data, key=lambda x: x[1])\n",
        "print(sorted_data)\n"
      ],
      "metadata": {
        "colab": {
          "base_uri": "https://localhost:8080/"
        },
        "id": "aXAA1drZVDlg",
        "outputId": "099cec35-5582-45db-b782-9f3fefd0902d"
      },
      "execution_count": 19,
      "outputs": [
        {
          "output_type": "stream",
          "name": "stdout",
          "text": [
            "[(4, 1), (3, 2), (1, 5), (2, 8)]\n"
          ]
        }
      ]
    },
    {
      "cell_type": "code",
      "source": [
        "#9  Write a Python program that uses `map()` to convert a list of temperatures from Celsius to Fahrenheit.\n",
        "\n",
        "celsius_temperatures = [0, 10, 20, 30, 40]\n",
        "fahrenheit_temperatures = list(map(lambda c: (c * 9/5) + 32, celsius_temperatures))\n",
        "print(fahrenheit_temperatures)\n"
      ],
      "metadata": {
        "colab": {
          "base_uri": "https://localhost:8080/"
        },
        "id": "qrZ7Lo76VMIm",
        "outputId": "82fa53ff-2804-42ec-8dc4-67d29ac61b79"
      },
      "execution_count": 20,
      "outputs": [
        {
          "output_type": "stream",
          "name": "stdout",
          "text": [
            "[32.0, 50.0, 68.0, 86.0, 104.0]\n"
          ]
        }
      ]
    },
    {
      "cell_type": "code",
      "source": [
        "#10  Create a Python program that uses `filter()` to remove all the vowels from a given string.\n",
        "\n",
        "def remove_vowels(input_string):\n",
        "    vowels = 'aeiouAEIOU'\n",
        "    filtered_string = ''.join(filter(lambda char: char not in vowels, input_string))\n",
        "    return filtered_string\n",
        "\n",
        "input_str = \"Hello, World!\"\n",
        "result = remove_vowels(input_str)\n",
        "print(result)"
      ],
      "metadata": {
        "colab": {
          "base_uri": "https://localhost:8080/"
        },
        "id": "SkiDosjJVT8G",
        "outputId": "6376a336-b85d-491f-d3ca-6acf24c1a36c"
      },
      "execution_count": 21,
      "outputs": [
        {
          "output_type": "stream",
          "name": "stdout",
          "text": [
            "Hll, Wrld!\n"
          ]
        }
      ]
    },
    {
      "cell_type": "code",
      "source": [
        "#11  Imagine an accounting routine used in a book shop. It works on a list with sublists, which look like this:\n",
        "\n",
        "orders = [\n",
        "    [1, 15.0, 4],\n",
        "    [2, 30.0, 3],\n",
        "    [3, 45.0, 2],\n",
        "    [4, 50.0, 1],\n",
        "    [5, 20.0, 6]\n",
        "]\n",
        "\n",
        "\n",
        "def calculate_order(order):\n",
        "    order_number, price, quantity = order\n",
        "    total_value = price * quantity\n",
        "    if total_value < 100:\n",
        "        total_value += 10\n",
        "    return (order_number, total_value)\n",
        "\n",
        "\n",
        "result = list(map(lambda order: (order[0], (order[1] * order[2] + 10) if order[1] * order[2] < 100 else order[1] * order[2]), orders))\n",
        "\n",
        "print(result)\n"
      ],
      "metadata": {
        "colab": {
          "base_uri": "https://localhost:8080/"
        },
        "id": "XHJudsN7VcT6",
        "outputId": "0fead21b-b18d-4bf8-fafc-2ddf7cf93c4c"
      },
      "execution_count": 22,
      "outputs": [
        {
          "output_type": "stream",
          "name": "stdout",
          "text": [
            "[(1, 70.0), (2, 100.0), (3, 100.0), (4, 60.0), (5, 120.0)]\n"
          ]
        }
      ]
    }
  ]
}